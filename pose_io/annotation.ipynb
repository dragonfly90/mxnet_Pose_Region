{
 "cells": [
  {
   "cell_type": "markdown",
   "metadata": {},
   "source": [
    "## Load keypoints"
   ]
  },
  {
   "cell_type": "code",
   "execution_count": 2,
   "metadata": {},
   "outputs": [
    {
     "name": "stdout",
     "output_type": "stream",
     "text": [
      "loading annotations into memory...\n",
      "Done (t=5.43s)\n",
      "creating index...\n",
      "index created!\n"
     ]
    }
   ],
   "source": [
    "from pycocotools.coco import COCO\n",
    "## install coco library https://github.com/pdollar/coco\n",
    "from collections import namedtuple\n",
    "import numpy as np\n",
    "from numpy import ma\n",
    "import math\n",
    "import skimage.io as io\n",
    "import matplotlib.pyplot as plt\n",
    "import matplotlib\n",
    "import pylab\n",
    "import json\n",
    "import time\n",
    "\n",
    "from numpy import linalg as LA\n",
    "pylab.rcParams['figure.figsize'] = (10.0, 8.0)\n",
    "\n",
    "## load keypoints json jointall=[\n",
    "annFile = '/data/datasets/COCO/person_keypoints_trainval2014/person_keypoints_train2014.json' # keypoint file\n",
    "trainimagepath = '/data/guest_users/liangdong/liangdong/practice_demo/train2014/'             # train image path\n",
    "\n",
    "coco = COCO(annFile)\n",
    "cats = coco.loadCats(coco.getCatIds())\n",
    "catIds = coco.getCatIds(catNms=['person'])\n",
    "imgIds = coco.getImgIds(catIds=catIds )\n",
    "jointall=[]\n"
   ]
  },
  {
   "cell_type": "code",
   "execution_count": 10,
   "metadata": {},
   "outputs": [
    {
     "data": {
      "text/plain": [
       "45174"
      ]
     },
     "execution_count": 10,
     "metadata": {},
     "output_type": "execute_result"
    }
   ],
   "source": [
    "len(imgIds)"
   ]
  },
  {
   "cell_type": "code",
   "execution_count": 11,
   "metadata": {},
   "outputs": [
    {
     "data": {
      "text/plain": [
       "[{u'id': 1,\n",
       "  u'keypoints': [u'nose',\n",
       "   u'left_eye',\n",
       "   u'right_eye',\n",
       "   u'left_ear',\n",
       "   u'right_ear',\n",
       "   u'left_shoulder',\n",
       "   u'right_shoulder',\n",
       "   u'left_elbow',\n",
       "   u'right_elbow',\n",
       "   u'left_wrist',\n",
       "   u'right_wrist',\n",
       "   u'left_hip',\n",
       "   u'right_hip',\n",
       "   u'left_knee',\n",
       "   u'right_knee',\n",
       "   u'left_ankle',\n",
       "   u'right_ankle'],\n",
       "  u'name': u'person',\n",
       "  u'skeleton': [[16, 14],\n",
       "   [14, 12],\n",
       "   [17, 15],\n",
       "   [15, 13],\n",
       "   [12, 13],\n",
       "   [6, 12],\n",
       "   [7, 13],\n",
       "   [6, 7],\n",
       "   [6, 8],\n",
       "   [7, 9],\n",
       "   [8, 10],\n",
       "   [9, 11],\n",
       "   [2, 3],\n",
       "   [1, 2],\n",
       "   [1, 3],\n",
       "   [2, 4],\n",
       "   [3, 5],\n",
       "   [4, 6],\n",
       "   [5, 7]],\n",
       "  u'supercategory': u'person'}]"
      ]
     },
     "execution_count": 11,
     "metadata": {},
     "output_type": "execute_result"
    }
   ],
   "source": [
    "cats"
   ]
  },
  {
   "cell_type": "code",
   "execution_count": 91,
   "metadata": {
    "collapsed": true
   },
   "outputs": [],
   "source": [
    "imgsequence = 4\n",
    "img = coco.loadImgs(imgIds[imgsequence])[0]\n",
    "annIds = coco.getAnnIds(imgIds=img['id'], catIds=catIds, iscrowd=None)\n",
    "anns = coco.loadAnns(annIds)"
   ]
  },
  {
   "cell_type": "code",
   "execution_count": 92,
   "metadata": {},
   "outputs": [
    {
     "data": {
      "text/plain": [
       "{u'coco_url': u'http://mscoco.org/images/393224',\n",
       " u'date_captured': u'2013-11-18 02:29:39',\n",
       " u'file_name': u'COCO_train2014_000000393224.jpg',\n",
       " u'flickr_url': u'http://farm9.staticflickr.com/8503/8356977703_647d20f05c_z.jpg',\n",
       " u'height': 640,\n",
       " u'id': 393224,\n",
       " u'license': 2,\n",
       " u'width': 427}"
      ]
     },
     "execution_count": 92,
     "metadata": {},
     "output_type": "execute_result"
    }
   ],
   "source": [
    "img"
   ]
  },
  {
   "cell_type": "code",
   "execution_count": 93,
   "metadata": {},
   "outputs": [
    {
     "data": {
      "text/plain": [
       "5"
      ]
     },
     "execution_count": 93,
     "metadata": {},
     "output_type": "execute_result"
    }
   ],
   "source": [
    "len(anns)"
   ]
  },
  {
   "cell_type": "code",
   "execution_count": 94,
   "metadata": {},
   "outputs": [
    {
     "data": {
      "text/plain": [
       "[1.44, 37.39, 424.27, 602.61]"
      ]
     },
     "execution_count": 94,
     "metadata": {},
     "output_type": "execute_result"
    }
   ],
   "source": [
    "anns[0]['bbox']"
   ]
  },
  {
   "cell_type": "code",
   "execution_count": 95,
   "metadata": {},
   "outputs": [
    {
     "data": {
      "text/plain": [
       "[68.42, 124.92, 69.7, 104.07]"
      ]
     },
     "execution_count": 95,
     "metadata": {},
     "output_type": "execute_result"
    }
   ],
   "source": [
    "anns[1]['bbox']"
   ]
  },
  {
   "cell_type": "code",
   "execution_count": 96,
   "metadata": {},
   "outputs": [
    {
     "data": {
      "text/plain": [
       "[3.51, 173.18, 90.95, 109.35]"
      ]
     },
     "execution_count": 96,
     "metadata": {},
     "output_type": "execute_result"
    }
   ],
   "source": [
    "anns[2]['bbox']"
   ]
  },
  {
   "cell_type": "code",
   "execution_count": 97,
   "metadata": {},
   "outputs": [
    {
     "data": {
      "text/plain": [
       "[0, 130.16, 72.07, 67.96]"
      ]
     },
     "execution_count": 97,
     "metadata": {},
     "output_type": "execute_result"
    }
   ],
   "source": [
    "anns[3]['bbox']"
   ]
  },
  {
   "cell_type": "code",
   "execution_count": 98,
   "metadata": {},
   "outputs": [
    {
     "data": {
      "text/plain": [
       "[350.97, 163.03, 76.03, 246.96]"
      ]
     },
     "execution_count": 98,
     "metadata": {},
     "output_type": "execute_result"
    }
   ],
   "source": [
    "anns[4]['bbox']"
   ]
  },
  {
   "cell_type": "code",
   "execution_count": 99,
   "metadata": {},
   "outputs": [
    {
     "data": {
      "text/plain": [
       "u'/data/guest_users/liangdong/liangdong/practice_demo/train2014/COCO_train2014_000000393224.jpg'"
      ]
     },
     "execution_count": 99,
     "metadata": {},
     "output_type": "execute_result"
    }
   ],
   "source": [
    "trainimagepath + img['file_name']"
   ]
  },
  {
   "cell_type": "code",
   "execution_count": 100,
   "metadata": {},
   "outputs": [
    {
     "data": {
      "image/png": "[encoded data removed]",
      "text/plain": [
       "<matplotlib.figure.Figure at 0x7fc690187410>"
      ]
     },
     "metadata": {},
     "output_type": "display_data"
    }
   ],
   "source": [
    "import cv2 as cv\n",
    "import matplotlib.pyplot as plt\n",
    "import matplotlib.patches as patches\n",
    "from PIL import Image\n",
    "import numpy as np\n",
    "\n",
    "# Create figure and axes\n",
    "fig,ax = plt.subplots(1)\n",
    "\n",
    "cimage = cv.imread(trainimagepath + img['file_name'])\n",
    "\n",
    "# Display the image\n",
    "ax.imshow(cimage[:, :, [2, 1, 0]])\n",
    "\n",
    "for i in range(4,5):\n",
    "    # Create a Rectangle patch\n",
    "    rect = patches.Rectangle(\n",
    "        (anns[i]['bbox'][0], anns[i]['bbox'][1]),\n",
    "         anns[i]['bbox'][2], anns[i]['bbox'][3],\n",
    "        linewidth=1,edgecolor='r',facecolor='none')\n",
    "\n",
    "    # Add the patch to the Axes\n",
    "    ax.add_patch(rect)\n",
    "\n",
    "plt.show()"
   ]
  },
  {
   "cell_type": "code",
   "execution_count": 101,
   "metadata": {},
   "outputs": [
    {
     "data": {
      "text/plain": [
       "{u'coco_url': u'http://mscoco.org/images/393224',\n",
       " u'date_captured': u'2013-11-18 02:29:39',\n",
       " u'file_name': u'COCO_train2014_000000393224.jpg',\n",
       " u'flickr_url': u'http://farm9.staticflickr.com/8503/8356977703_647d20f05c_z.jpg',\n",
       " u'height': 640,\n",
       " u'id': 393224,\n",
       " u'license': 2,\n",
       " u'width': 427}"
      ]
     },
     "execution_count": 101,
     "metadata": {},
     "output_type": "execute_result"
    }
   ],
   "source": [
    "img"
   ]
  },
  {
   "cell_type": "code",
   "execution_count": 109,
   "metadata": {},
   "outputs": [
    {
     "data": {
      "text/plain": [
       "68.42"
      ]
     },
     "execution_count": 109,
     "metadata": {},
     "output_type": "execute_result"
    }
   ],
   "source": [
    "anns[1]['bbox'][0]"
   ]
  },
  {
   "cell_type": "markdown",
   "metadata": {},
   "source": [
    "### seg = anns[0]['segmentation']\n",
    "poly = zip(seg[0][0:nlen+2:2], seg[0][1:nlen+1:2])\n",
    "polygon_array = create_polygon([ny, nx], vertices)"
   ]
  },
  {
   "cell_type": "code",
   "execution_count": 166,
   "metadata": {},
   "outputs": [],
   "source": [
    "from PIL import Image, ImageDraw\n",
    "nx, ny = img['width'], img['height']\n",
    "\n",
    "maskall = np.zeros((ny, nx))\n",
    "\n",
    "for i in range(len(anns)):\n",
    "    seg = anns[i]['segmentation']\n",
    "    if len(seg) > 0:\n",
    "        nlen = len(seg[0])\n",
    "        if nlen > 5:\n",
    "            poly = zip(seg[0][0:nlen+2:2], seg[0][1:nlen+1:2])\n",
    "            image = Image.new(\"L\", [nx, ny], 0)\n",
    "            ImageDraw.Draw(image).polygon(poly, outline=i+1, fill=i+1)\n",
    "            mask = np.array(image)\n",
    "            maskall = mask + maskall\n",
    "\n",
    "maskarray = np.zeros((ny, nx), dtype=np.float)\n",
    "for i in range(len(anns)):\n",
    "    maskarray[maskall==i+1] = anns[i]['bbox'][0]"
   ]
  },
  {
   "cell_type": "code",
   "execution_count": 169,
   "metadata": {},
   "outputs": [
    {
     "data": {
      "text/plain": [
       "350.97000000000003"
      ]
     },
     "execution_count": 169,
     "metadata": {},
     "output_type": "execute_result"
    }
   ],
   "source": [
    "maskarray.max()"
   ]
  },
  {
   "cell_type": "code",
   "execution_count": 186,
   "metadata": {},
   "outputs": [
    {
     "data": {
      "text/plain": [
       "37.39"
      ]
     },
     "execution_count": 186,
     "metadata": {},
     "output_type": "execute_result"
    }
   ],
   "source": [
    "anns[0]['bbox'][1]"
   ]
  },
  {
   "cell_type": "code",
   "execution_count": 187,
   "metadata": {},
   "outputs": [
    {
     "data": {
      "text/plain": [
       "<matplotlib.image.AxesImage at 0x7fc68ab4fe10>"
      ]
     },
     "execution_count": 187,
     "metadata": {},
     "output_type": "execute_result"
    },
    {
     "data": {
      "image/png": "[encoded data removed]",
      "text/plain": [
       "<matplotlib.figure.Figure at 0x7fc68ad79f90>"
      ]
     },
     "metadata": {},
     "output_type": "display_data"
    }
   ],
   "source": [
    "plt.imshow(maskarray==anns[0]['bbox'][0])"
   ]
  },
  {
   "cell_type": "code",
   "execution_count": null,
   "metadata": {
    "collapsed": true
   },
   "outputs": [],
   "source": [
    "new_width = xmax - xmin\n",
    "new_height = ymax - ymin\n",
    "offset_x = 0 - xmin\n",
    "offset_y = 0 - ymin"
   ]
  },
  {
   "cell_type": "code",
   "execution_count": null,
   "metadata": {
    "collapsed": true
   },
   "outputs": [],
   "source": [
    "nx, ny = meta['img_width'], meta['img_height']\n",
    "maskall = np.zeros((ny, nx))\n",
    "\n",
    "try: \n",
    "    if(len(meta['segmentations']) > 0):\n",
    "        for i in range(len(meta['segmentations'])): \n",
    "                seg = meta['segmentations'][i]\n",
    "                if len(seg) > 0:\n",
    "                    nlen = len(seg[0])\n",
    "                    if nlen > 5:\n",
    "                        poly = zip(seg[0][0:nlen+2:2], seg[0][1:nlen+1:2])\n",
    "                        img = Image.new(\"L\", [nx, ny], 0)\n",
    "                        ImageDraw.Draw(img).polygon(poly, outline=1, fill=1)\n",
    "                        mask = np.array(img)\n",
    "                        maskall = np.logical_or(mask, maskall)\n",
    "    except:\n",
    "        print 'full mask'\n",
    "    \n",
    "    return np.logical_not(maskall)"
   ]
  },
  {
   "cell_type": "markdown",
   "metadata": {},
   "source": [
    "## Transform data format from coco to real_time_pose "
   ]
  },
  {
   "cell_type": "code",
   "execution_count": 2,
   "metadata": {
    "collapsed": true
   },
   "outputs": [],
   "source": [
    "count = 1\n",
    "joint_all = dict()\n",
    "numimgs = len(imgIds)\n",
    "\n",
    "for i in range(0, numimgs):\n",
    "    #print('----image: '+str(imgIds[i])+' ---------------')\n",
    "    img = coco.loadImgs(imgIds[i])[0]\n",
    "    annIds = coco.getAnnIds(imgIds=img['id'], catIds=catIds, iscrowd=None)\n",
    "    anns = coco.loadAnns(annIds)\n",
    "    \n",
    "    height = img['height']\n",
    "    width = img['width']\n",
    "    #print (height, width)\n",
    "    prev_center = list(list())\n",
    "    \n",
    "    segmentations = list()\n",
    "    \n",
    "    for j in range(len(anns)):\n",
    "        if anns[j]['num_keypoints']<5 or anns[j]['area']<32*32:\n",
    "            segmentations.append(anns[j]['segmentation'])\n",
    "            \n",
    "    for j in range(len(anns)):\n",
    "        \n",
    "        ## remove those persons whose keypoints are too small\n",
    "        if anns[j]['num_keypoints']<5 or anns[j]['area']<32*32:\n",
    "            continue\n",
    "        \n",
    "        person_center = [anns[j]['bbox'][0] + anns[j]['bbox'][2]/2,\n",
    "                         anns[j]['bbox'][1] + anns[j]['bbox'][3]/2]\n",
    "        flag = 0\n",
    "        isValidation = 0 \n",
    "        \n",
    "        for k in range(len(prev_center)):\n",
    "            dist1 = prev_center[k][0] - person_center[0]\n",
    "            dist2 = prev_center[k][1] - person_center[1]\n",
    "            #print dist1, dist2\n",
    "            if dist1*dist1+dist2*dist2 < prev_center[k][2]*0.3:\n",
    "                flag = 1\n",
    "                continue\n",
    "                \n",
    "        currentjoin={'isValidation': isValidation,\n",
    "                     'img_paths': trainimagepath + img['file_name'],\n",
    "                     'objpos': person_center,\n",
    "                     'image_id': img['id'],\n",
    "                     'bbox': anns[j]['bbox'],\n",
    "                     'img_width': width,\n",
    "                     'img_height': height,\n",
    "                     'segment_area': anns[j]['area'],\n",
    "                     'num_keypoints': anns[j]['num_keypoints'],\n",
    "                     'joint_self': np.zeros((17,3)).tolist(),\n",
    "                     'scale_provided': anns[j]['bbox'][3]/368.0,\n",
    "                     'segmentations': segmentations,\n",
    "                     'joint_others': {},\n",
    "                     'annolist_index': i ,\n",
    "                     'people_index': j,\n",
    "                     'numOtherPeople':0,\n",
    "                     'scale_provided_other':{},\n",
    "                     'objpos_other':{},\n",
    "                     'bbox_other':{},\n",
    "                     'segment_area_other':{},\n",
    "                     'num_keypoints_other':{}\n",
    "                    }    \n",
    "        \n",
    "        for part in range(17):\n",
    "            currentjoin['joint_self'][part][0] = anns[j]['keypoints'][part*3]\n",
    "            currentjoin['joint_self'][part][1] = anns[j]['keypoints'][part*3+1]\n",
    "            # 2 means cropped, 0 means occluded by still on image\n",
    "            if(anns[j]['keypoints'][part*3+2] == 2):\n",
    "                currentjoin['joint_self'][part][2] = 1\n",
    "            elif(anns[j]['keypoints'][part*3+2] == 1):\n",
    "                currentjoin['joint_self'][part][2] = 0                \n",
    "            else:\n",
    "                currentjoin['joint_self'][part][2] = 2\n",
    "            \n",
    "        count_other = 1\n",
    "        \n",
    "        currentjoin['joint_others'] ={}\n",
    "       \n",
    "        for k in range(len(anns)):\n",
    "            \n",
    "            if k==j or anns[k]['num_keypoints']==0:\n",
    "                continue\n",
    "                \n",
    "            annop = anns[k]\n",
    "            \n",
    "            currentjoin['scale_provided_other'][count_other] = annop['bbox'][3]/368\n",
    "            currentjoin['objpos_other'][count_other] = [annop['bbox'][0]+annop['bbox'][2]/2, \n",
    "                                        annop['bbox'][1]+annop['bbox'][3]/2]\n",
    "            currentjoin['bbox_other'][count_other] = annop['bbox']\n",
    "            currentjoin['segment_area_other'][count_other] = annop['area']\n",
    "            currentjoin['num_keypoints_other'][count_other] = annop['num_keypoints']\n",
    "            \n",
    "            currentjoin['joint_others'][count_other] = np.zeros((17,3)).tolist()\n",
    "            \n",
    "            for part in range(17):\n",
    "                currentjoin['joint_others'][count_other][part][0] = annop['keypoints'][part*3]\n",
    "                currentjoin['joint_others'][count_other][part][1] = annop['keypoints'][part*3+1]\n",
    "                \n",
    "                if(annop['keypoints'][part*3+2] == 2):\n",
    "                    currentjoin['joint_others'][count_other][part][2] = 1\n",
    "                elif(annop['keypoints'][part*3+2] == 1):\n",
    "                    currentjoin['joint_others'][count_other][part][2] = 0\n",
    "                else:\n",
    "                    currentjoin['joint_others'][count_other][part][2] = 2\n",
    "                \n",
    "              \n",
    "            currentjoin['numOtherPeople'] = len(currentjoin['joint_others'])\n",
    "                    \n",
    "            count_other = count_other + 1\n",
    "                        \n",
    "        prev_center.append([person_center[0], person_center[1],\n",
    "                            max(anns[j]['bbox'][2], anns[j]['bbox'][3])])\n",
    "        \n",
    "    joint_all[i] = currentjoin\n",
    "    \n",
    "    count = count + 1"
   ]
  },
  {
   "cell_type": "markdown",
   "metadata": {},
   "source": [
    "## all joints length"
   ]
  },
  {
   "cell_type": "code",
   "execution_count": 3,
   "metadata": {},
   "outputs": [
    {
     "name": "stdout",
     "output_type": "stream",
     "text": [
      "45174\n"
     ]
    }
   ],
   "source": [
    "print len(joint_all)"
   ]
  },
  {
   "cell_type": "markdown",
   "metadata": {},
   "source": [
    "## Write json file"
   ]
  },
  {
   "cell_type": "code",
   "execution_count": 4,
   "metadata": {
    "collapsed": true
   },
   "outputs": [],
   "source": [
    "with open('data.json', 'w') as f:\n",
    "     json.dump(joint_all, f)"
   ]
  },
  {
   "cell_type": "markdown",
   "metadata": {},
   "source": [
    "## Reading data back"
   ]
  },
  {
   "cell_type": "code",
   "execution_count": 12,
   "metadata": {
    "collapsed": true
   },
   "outputs": [],
   "source": [
    "with open('data.json', 'r') as f:\n",
    "     data = json.load(f)"
   ]
  },
  {
   "cell_type": "code",
   "execution_count": 13,
   "metadata": {},
   "outputs": [
    {
     "data": {
      "text/plain": [
       "45174"
      ]
     },
     "execution_count": 13,
     "metadata": {},
     "output_type": "execute_result"
    }
   ],
   "source": [
    "len(data)"
   ]
  },
  {
   "cell_type": "code",
   "execution_count": 7,
   "metadata": {},
   "outputs": [
    {
     "data": {
      "text/plain": [
       "{u'annolist_index': 13054,\n",
       " u'bbox': [224.36, 27.42, 255.64, 408.45],\n",
       " u'bbox_other': {},\n",
       " u'image_id': 34865,\n",
       " u'img_height': 640,\n",
       " u'img_paths': u'/data/guest_users/liangdong/liangdong/practice_demo/train2014/COCO_train2014_000000034865.jpg',\n",
       " u'img_width': 480,\n",
       " u'isValidation': 0,\n",
       " u'joint_others': {},\n",
       " u'joint_self': [[284, 113, 0],\n",
       "  [284, 85, 1],\n",
       "  [0, 0, 2],\n",
       "  [315, 74, 1],\n",
       "  [0, 0, 2],\n",
       "  [342, 146, 1],\n",
       "  [398, 113, 1],\n",
       "  [329, 245, 1],\n",
       "  [0, 0, 2],\n",
       "  [268, 314, 1],\n",
       "  [0, 0, 2],\n",
       "  [394, 313, 1],\n",
       "  [434, 301, 1],\n",
       "  [367, 449, 0],\n",
       "  [0, 0, 2],\n",
       "  [0, 0, 2],\n",
       "  [0, 0, 2]],\n",
       " u'numOtherPeople': 0,\n",
       " u'num_keypoints': 10,\n",
       " u'num_keypoints_other': {},\n",
       " u'objpos': [352.18, 231.64499999999998],\n",
       " u'objpos_other': {},\n",
       " u'people_index': 0,\n",
       " u'scale_provided': 1.1099184782608695,\n",
       " u'scale_provided_other': {},\n",
       " u'segment_area': 56051.8268,\n",
       " u'segment_area_other': {},\n",
       " u'segmentations': []}"
      ]
     },
     "execution_count": 7,
     "metadata": {},
     "output_type": "execute_result"
    }
   ],
   "source": [
    "data['13054']"
   ]
  },
  {
   "cell_type": "code",
   "execution_count": 8,
   "metadata": {},
   "outputs": [
    {
     "data": {
      "text/plain": [
       "{u'annolist_index': 13054,\n",
       " u'bbox': [224.36, 27.42, 255.64, 408.45],\n",
       " u'bbox_other': {},\n",
       " u'image_id': 34865,\n",
       " u'img_height': 640,\n",
       " u'img_paths': u'/data/guest_users/liangdong/liangdong/practice_demo/train2014/COCO_train2014_000000034865.jpg',\n",
       " u'img_width': 480,\n",
       " u'isValidation': 0,\n",
       " u'joint_others': {},\n",
       " u'joint_self': [[284, 113, 0],\n",
       "  [284, 85, 1],\n",
       "  [0, 0, 2],\n",
       "  [315, 74, 1],\n",
       "  [0, 0, 2],\n",
       "  [342, 146, 1],\n",
       "  [398, 113, 1],\n",
       "  [329, 245, 1],\n",
       "  [0, 0, 2],\n",
       "  [268, 314, 1],\n",
       "  [0, 0, 2],\n",
       "  [394, 313, 1],\n",
       "  [434, 301, 1],\n",
       "  [367, 449, 0],\n",
       "  [0, 0, 2],\n",
       "  [0, 0, 2],\n",
       "  [0, 0, 2]],\n",
       " u'numOtherPeople': 0,\n",
       " u'num_keypoints': 10,\n",
       " u'num_keypoints_other': {},\n",
       " u'objpos': [352.18, 231.64499999999998],\n",
       " u'objpos_other': {},\n",
       " u'people_index': 0,\n",
       " u'scale_provided': 1.1099184782608695,\n",
       " u'scale_provided_other': {},\n",
       " u'segment_area': 56051.8268,\n",
       " u'segment_area_other': {},\n",
       " u'segmentations': []}"
      ]
     },
     "execution_count": 8,
     "metadata": {},
     "output_type": "execute_result"
    }
   ],
   "source": [
    "data['13054']"
   ]
  },
  {
   "cell_type": "code",
   "execution_count": null,
   "metadata": {
    "collapsed": true
   },
   "outputs": [],
   "source": []
  }
 ],
 "metadata": {
  "kernelspec": {
   "display_name": "Python 2",
   "language": "python",
   "name": "python2"
  },
  "language_info": {
   "codemirror_mode": {
    "name": "ipython",
    "version": 2
   },
   "file_extension": ".py",
   "mimetype": "text/x-python",
   "name": "python",
   "nbconvert_exporter": "python",
   "pygments_lexer": "ipython2",
   "version": "2.7.12"
  }
 },
 "nbformat": 4,
 "nbformat_minor": 2
}
